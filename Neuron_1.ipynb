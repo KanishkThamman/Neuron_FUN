{
 "cells": [
  {
   "cell_type": "code",
   "execution_count": 2,
   "metadata": {},
   "outputs": [
    {
     "name": "stdout",
     "output_type": "stream",
     "text": [
      "Decision for inputs (1, 1): 0\n",
      "Decision for inputs (1, 0): 0\n",
      "Decision for inputs (0, 1): 0\n",
      "Decision for inputs (0, 0): 0\n"
     ]
    }
   ],
   "source": [
    "class Neuron:\n",
    "    def __init__(self):\n",
    "        # Initialize weights for the two inputs\n",
    "        self.weight1 = 0.5\n",
    "        self.weight2 = 0.1\n",
    "\n",
    "    def learn(self, input1, input2, correct_output):\n",
    "        # Get the neuron's output based on current weights\n",
    "        predicted_output = self.decide(input1, input2)\n",
    "        \n",
    "        # Calculate the error (difference between predicted and correct output)\n",
    "        error = predicted_output - correct_output\n",
    "        \n",
    "        # Update the weights to reduce the error\n",
    "        self.weight1 -= 0.01 * error * input1\n",
    "        self.weight2 -= 0.01 * error * input2\n",
    "\n",
    "    def decide(self, input1, input2):\n",
    "        # Calculate the weighted sum of the inputs\n",
    "        weighted_sum = input1 * self.weight1 + input2 * self.weight2\n",
    "        \n",
    "        # Compare the weighted sum to a threshold to make a decision\n",
    "        if weighted_sum > 1:\n",
    "            return 1\n",
    "        else:\n",
    "            return 0\n",
    "\n",
    "if __name__ == \"__main__\":\n",
    "    neuron = Neuron()\n",
    "\n",
    "    # Training phase\n",
    "    # Teach the neuron with 4 training examples\n",
    "    neuron.learn(1, 1, 1)  # Inputs: 1, 1 -> Output: 1\n",
    "    neuron.learn(1, 0, 0)  # Inputs: 1, 0 -> Output: 0\n",
    "    neuron.learn(0, 1, 0)  # Inputs: 0, 1 -> Output: 0\n",
    "    neuron.learn(0, 0, 0)  # Inputs: 0, 0 -> Output: 0\n",
    "\n",
    "    # Testing phase\n",
    "    # Test the neuron with the same examples and print the results\n",
    "    print(\"Decision for inputs (1, 1):\", neuron.decide(1, 1))  # Expected: 1\n",
    "    print(\"Decision for inputs (1, 0):\", neuron.decide(1, 0))  # Expected: 0\n",
    "    print(\"Decision for inputs (0, 1):\", neuron.decide(0, 0))  # Expected: 0\n",
    "    print(\"Decision for inputs (0, 0):\", neuron.decide(0, 0))  # Expected: 0\n"
   ]
  },
  {
   "cell_type": "markdown",
   "metadata": {},
   "source": [
    "## Well As you can see your neuron is not performing well... well this could be due the following reasons: \n",
    "1) Initial Weights and Learning Rate:\n",
    "\n",
    "    The initial weights might not be appropriate for the given problem.\n",
    "    The learning rate (0.01) might be too small, causing the neuron to update weights too slowly.\n",
    "\n",
    "2) But the main reason is... drum roll pls... Cuz the model is not learning nicely! \n",
    "    You see, you have to give the neuron the data multipal times... (not in one set)\n",
    "\n",
    "## So lets Fix that! \n",
    "\n"
   ]
  },
  {
   "cell_type": "code",
   "execution_count": 12,
   "metadata": {},
   "outputs": [
    {
     "name": "stdout",
     "output_type": "stream",
     "text": [
      "Decision for inputs (1, 1): 1\n",
      "Decision for inputs (1, 0): 0\n",
      "Decision for inputs (0, 1): 0\n",
      "Decision for inputs (0, 0): 0\n"
     ]
    }
   ],
   "source": [
    "class Neuron:\n",
    "    def __init__(self):\n",
    "        self.weight1 = 0.5\n",
    "        self.weight2 = 0.1\n",
    "\n",
    "    def learn(self, input1, input2, correct_output):\n",
    "        predicted_output = self.decide(input1, input2)\n",
    "        error = predicted_output - correct_output\n",
    "        self.weight1 -= 0.1 * error * input1  # Increased learning rate for more significant changes\n",
    "        self.weight2 -= 0.1 * error * input2\n",
    "\n",
    "    def decide(self, input1, input2):\n",
    "        weighted_sum = input1 * self.weight1 + input2 * self.weight2\n",
    "        if weighted_sum > 1:\n",
    "            return 1\n",
    "        else:\n",
    "            return 0\n",
    "\n",
    "if __name__ == \"__main__\":\n",
    "    neuron = Neuron()\n",
    "\n",
    "    # Training phase with multiple iterations\n",
    "    for _ in range(10000):  # Train for 10000 iterations\n",
    "        neuron.learn(1, 1, 1)\n",
    "        neuron.learn(1, 0, 0)\n",
    "        neuron.learn(0, 1, 0)\n",
    "        neuron.learn(0, 0, 0)\n",
    "\n",
    "    # Testing phase\n",
    "    print(\"Decision for inputs (1, 1):\", neuron.decide(1, 1))  # Expected: 1\n",
    "    print(\"Decision for inputs (1, 0):\", neuron.decide(1, 0))  # Expected: 0\n",
    "    print(\"Decision for inputs (0, 1):\", neuron.decide(0, 0))  # Expected: 0\n",
    "    print(\"Decision for inputs (0, 0):\", neuron.decide(0, 0))  # Expected: 0\n"
   ]
  },
  {
   "cell_type": "markdown",
   "metadata": {},
   "source": [
    "## Look at that SOOOO Much betterrrrr \n",
    "\n",
    "### thats the power of training for more than 1 iteration (But don't over do it! You will overtrain you model and make it memerize your testing data!!!)"
   ]
  }
 ],
 "metadata": {
  "kernelspec": {
   "display_name": "Python 3",
   "language": "python",
   "name": "python3"
  },
  "language_info": {
   "codemirror_mode": {
    "name": "ipython",
    "version": 3
   },
   "file_extension": ".py",
   "mimetype": "text/x-python",
   "name": "python",
   "nbconvert_exporter": "python",
   "pygments_lexer": "ipython3",
   "version": "3.11.3"
  }
 },
 "nbformat": 4,
 "nbformat_minor": 2
}
